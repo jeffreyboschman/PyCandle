{
  "nbformat": 4,
  "nbformat_minor": 0,
  "metadata": {
    "colab": {
      "provenance": [],
      "collapsed_sections": []
    },
    "kernelspec": {
      "name": "python3",
      "display_name": "Python 3"
    },
    "language_info": {
      "name": "python"
    }
  },
  "cells": [
    {
      "cell_type": "code",
      "source": [
        "!pip install graphviz\n",
        "from typing import Union, Tuple, List, Set, Callable\n",
        "from graphviz import Digraph\n",
        "import math\n"
      ],
      "metadata": {
        "colab": {
          "base_uri": "https://localhost:8080/"
        },
        "id": "mbXUyb2wVHP5",
        "outputId": "3cd71c21-43f3-480e-f4a7-d67f0c789304"
      },
      "execution_count": null,
      "outputs": [
        {
          "output_type": "stream",
          "name": "stdout",
          "text": [
            "Looking in indexes: https://pypi.org/simple, https://us-python.pkg.dev/colab-wheels/public/simple/\n",
            "Requirement already satisfied: graphviz in /usr/local/lib/python3.7/dist-packages (0.10.1)\n"
          ]
        }
      ]
    },
    {
      "cell_type": "code",
      "source": [
        "def trace(root):\n",
        "    # builds a set of all nodes and edges in a graph\n",
        "    nodes, edges = set(), set()\n",
        "    def build(v):\n",
        "        if v not in nodes:\n",
        "            nodes.add(v)\n",
        "            for child in v._prev:\n",
        "                edges.add((child, v))\n",
        "                build(child)\n",
        "    build(root)\n",
        "    return nodes, edges\n",
        "\n",
        "def draw_dot(root, format='svg', rankdir='LR'):\n",
        "    \"\"\"\n",
        "    format: png | svg | ...\n",
        "    rankdir: TB (top to bottom graph) | LR (left to right)\n",
        "    \"\"\"\n",
        "    assert rankdir in ['LR', 'TB']\n",
        "    nodes, edges = trace(root)\n",
        "    dot = Digraph(format=format, graph_attr={'rankdir': rankdir}) #, node_attr={'rankdir': 'TB'})\n",
        "    \n",
        "    for n in nodes:\n",
        "        # for any value in the graph, create a rectangular ('record') node for it\n",
        "        dot.node(name=str(id(n)), label = \"{ data %.4f | grad %.4f }\" % (n.data, n.grad), shape='record')\n",
        "        #dot.node(name=str(id(n)), label = \"{ data %.4f | grad}\" % (n.data), shape='record')\n",
        "\n",
        "        if n._op:\n",
        "            # if this value is a result of some operation, create an op node for it\n",
        "            dot.node(name=str(id(n)) + n._op, label=n._op)\n",
        "            dot.edge(str(id(n)) + n._op, str(id(n)))\n",
        "    \n",
        "    for n1, n2 in edges:\n",
        "        # connect n1 to the op node of n2\n",
        "        dot.edge(str(id(n1)), str(id(n2)) + n2._op)\n",
        "    \n",
        "    return dot"
      ],
      "metadata": {
        "id": "oTPsVhqhVFhl"
      },
      "execution_count": null,
      "outputs": []
    },
    {
      "cell_type": "code",
      "execution_count": null,
      "metadata": {
        "id": "kPRWOTzRc7zW"
      },
      "outputs": [],
      "source": [
        "class Value():\n",
        "    def __init__(self, data: Union[float, int], _children: Tuple[\"Value\", ...]=(), _op: str=\"\") -> None:\n",
        "        \"\"\"Initializes a scalar with its data.\"\"\"\n",
        "        self.data = float(data)\n",
        "        self.grad = 0.0\n",
        "\n",
        "        self._prev = set(_children)\n",
        "        self._op = _op\n",
        "        self._backward = lambda: None\n",
        "\n",
        "\n",
        "    def __repr__(self):\n",
        "        \"\"\"Returns a printable representation of the given Value object.\"\"\"\n",
        "        return f\"Value(data={self.data})\"\n",
        "\n",
        "\n",
        "    def __add__(self, other: Union[\"Value\", float, int]):\n",
        "        \"\"\"Adds two Value objects (or a Value object with a Python int/float). e.g., self + other\"\"\"\n",
        "        _other = other if isinstance(other, Value) else Value(other)\n",
        "        out = Value(self.data + _other.data, _children = (self, _other), _op = \"+\")\n",
        "\n",
        "        def _backward() -> None:\n",
        "            \"\"\"Going backwards through the computation graph, calculates the deriviates of the final node w.r.t. self and other (for this addition operation).\n",
        "            Via the chain rule, self.grad = (the local derivative d(out)/d(self)) * (the gradient of out w.r.t. the final node (which was already calculated since we are going backward)).\n",
        "            Via the chain rule, _other.grad = (the local derivative d(out)/d(_other)) * (the gradient of out w.r.t. the final node).\n",
        "            The reason it is `+=` (instead of just `=`) is because each `self` and `_other` object could have been used for calculating many `out` objects, and so you need to add those gradients together.\"\"\" \n",
        "            self.grad += (1 * out.grad)     # local derivative for addition: d(out)/d(self) = 1\n",
        "            _other.grad += (1 * out.grad)   # local derivative for addition: d(out)/d(_other) = 1\n",
        "        out._backward = _backward\n",
        "\n",
        "        return out\n",
        "\n",
        "    def __sub__(self, other):\n",
        "        pass\n",
        "\n",
        "\n",
        "    def __mul__(self, other: Union[\"Value\", float, int]):\n",
        "        \"\"\"Multiplies two Value objects (or a Value object with a Python int/float). e.g., self * other\"\"\"\n",
        "        _other = other if isinstance(other, Value) else Value(other)\n",
        "        out = Value(self.data * _other.data, _children = (self, _other), _op = \"*\")\n",
        "\n",
        "        def _backward() -> None:\n",
        "            \"\"\"Going backwards through the computation graph, calculates the deriviates of the final node w.r.t. self and other (for this multiplication operation).\"\"\" \n",
        "            self.grad += (_other.data * out.grad)   # local derivative for multiplication: d(out)/d(self) = _other\n",
        "            _other.grad += (self.data * out.grad)   # local derivative for multiplication: d(out)/d(_other) = self\n",
        "        out._backward = _backward\n",
        "\n",
        "        return out\n",
        "\n",
        "    def tanh(self):\n",
        "        x = self.data\n",
        "        tanh_x = (math.exp(2*x) - 1)/(math.exp(2*x) + 1) \n",
        "        out = Value(tanh_x, _children = (self, ), _op = \"tanh\")\n",
        "\n",
        "        def _backward() -> None:\n",
        "            self.grad += (1 - tanh_x**2) * out.grad    # local derivative of tanh: d(out)/d(self) = 1 - tanh(selsf)^2\n",
        "        out._backward = _backward\n",
        "\n",
        "        return out\n",
        "\n",
        "    def __radd__(self, other: Union[\"Value\", float, int]):\n",
        "        \"\"\"Adds a Python int/float with a Value object. e.g., other + self\n",
        "\n",
        "        Without this method, if a command were `a = 2 + Value(3)`, a TypeError would occur \n",
        "        because Python does not know what to do with 2.__add__(Value(3)).\"\"\"\n",
        "        return self + other\n",
        "\n",
        "\n",
        "    def __rmul__(self, other: Union[\"Value\", float, int]):\n",
        "        \"\"\"Multiplies a Python int/float with a Value object. e.g., other * self\n",
        "\n",
        "        Without this method, if a command were `a = 2 * Value(3)`, a TypeError would occur \n",
        "        because Python does not know what to do with 2.__mul__(Value(3)).\"\"\"\n",
        "        return self * other\n",
        "\n"
      ]
    },
    {
      "cell_type": "code",
      "source": [
        "a = Value(0.4)\n",
        "b = Value(0.5)\n",
        "c = a + b\n",
        "d = 0.4 + c\n",
        "e = d.tanh()\n"
      ],
      "metadata": {
        "id": "H9WGtgYRe4vM"
      },
      "execution_count": null,
      "outputs": []
    },
    {
      "cell_type": "code",
      "source": [
        "draw_dot(e)"
      ],
      "metadata": {
        "id": "HfwiQaKPe_NL",
        "colab": {
          "base_uri": "https://localhost:8080/",
          "height": 189
        },
        "outputId": "9e8f4a21-dbf7-4627-efe3-5e415164ac10"
      },
      "execution_count": null,
      "outputs": [
        {
          "output_type": "execute_result",
          "data": {
            "text/plain": [
              "<graphviz.dot.Digraph at 0x7f68b2d99ad0>"
            ],
            "image/svg+xml": "<?xml version=\"1.0\" encoding=\"UTF-8\" standalone=\"no\"?>\n<!DOCTYPE svg PUBLIC \"-//W3C//DTD SVG 1.1//EN\"\n \"http://www.w3.org/Graphics/SVG/1.1/DTD/svg11.dtd\">\n<!-- Generated by graphviz version 2.40.1 (20161225.0304)\n -->\n<!-- Title: %3 Pages: 1 -->\n<svg width=\"1074pt\" height=\"127pt\"\n viewBox=\"0.00 0.00 1074.00 127.00\" xmlns=\"http://www.w3.org/2000/svg\" xmlns:xlink=\"http://www.w3.org/1999/xlink\">\n<g id=\"graph0\" class=\"graph\" transform=\"scale(1 1) rotate(0) translate(4 123)\">\n<title>%3</title>\n<polygon fill=\"#ffffff\" stroke=\"transparent\" points=\"-4,4 -4,-123 1070,-123 1070,4 -4,4\"/>\n<!-- 140087653660752 -->\n<g id=\"node1\" class=\"node\">\n<title>140087653660752</title>\n<polygon fill=\"none\" stroke=\"#000000\" points=\"596,-54.5 596,-90.5 768,-90.5 768,-54.5 596,-54.5\"/>\n<text text-anchor=\"middle\" x=\"638.5\" y=\"-68.8\" font-family=\"Times,serif\" font-size=\"14.00\" fill=\"#000000\">data 1.3000</text>\n<polyline fill=\"none\" stroke=\"#000000\" points=\"681,-54.5 681,-90.5 \"/>\n<text text-anchor=\"middle\" x=\"724.5\" y=\"-68.8\" font-family=\"Times,serif\" font-size=\"14.00\" fill=\"#000000\">grad 0.0000</text>\n</g>\n<!-- 140087653661456tanh -->\n<g id=\"node6\" class=\"node\">\n<title>140087653661456tanh</title>\n<ellipse fill=\"none\" stroke=\"#000000\" cx=\"831\" cy=\"-72.5\" rx=\"27\" ry=\"18\"/>\n<text text-anchor=\"middle\" x=\"831\" y=\"-68.8\" font-family=\"Times,serif\" font-size=\"14.00\" fill=\"#000000\">tanh</text>\n</g>\n<!-- 140087653660752&#45;&gt;140087653661456tanh -->\n<g id=\"edge6\" class=\"edge\">\n<title>140087653660752&#45;&gt;140087653661456tanh</title>\n<path fill=\"none\" stroke=\"#000000\" d=\"M768.2424,-72.5C777.0915,-72.5 785.7138,-72.5 793.593,-72.5\"/>\n<polygon fill=\"#000000\" stroke=\"#000000\" points=\"793.8282,-76.0001 803.8281,-72.5 793.8281,-69.0001 793.8282,-76.0001\"/>\n</g>\n<!-- 140087653660752+ -->\n<g id=\"node2\" class=\"node\">\n<title>140087653660752+</title>\n<ellipse fill=\"none\" stroke=\"#000000\" cx=\"533\" cy=\"-72.5\" rx=\"27\" ry=\"18\"/>\n<text text-anchor=\"middle\" x=\"533\" y=\"-68.8\" font-family=\"Times,serif\" font-size=\"14.00\" fill=\"#000000\">+</text>\n</g>\n<!-- 140087653660752+&#45;&gt;140087653660752 -->\n<g id=\"edge1\" class=\"edge\">\n<title>140087653660752+&#45;&gt;140087653660752</title>\n<path fill=\"none\" stroke=\"#000000\" d=\"M560.3289,-72.5C567.9177,-72.5 576.6158,-72.5 585.7956,-72.5\"/>\n<polygon fill=\"#000000\" stroke=\"#000000\" points=\"585.9161,-76.0001 595.9161,-72.5 585.9161,-69.0001 585.9161,-76.0001\"/>\n</g>\n<!-- 140087653662352 -->\n<g id=\"node3\" class=\"node\">\n<title>140087653662352</title>\n<polygon fill=\"none\" stroke=\"#000000\" points=\"298,-82.5 298,-118.5 470,-118.5 470,-82.5 298,-82.5\"/>\n<text text-anchor=\"middle\" x=\"340.5\" y=\"-96.8\" font-family=\"Times,serif\" font-size=\"14.00\" fill=\"#000000\">data 0.4000</text>\n<polyline fill=\"none\" stroke=\"#000000\" points=\"383,-82.5 383,-118.5 \"/>\n<text text-anchor=\"middle\" x=\"426.5\" y=\"-96.8\" font-family=\"Times,serif\" font-size=\"14.00\" fill=\"#000000\">grad 0.0000</text>\n</g>\n<!-- 140087653662352&#45;&gt;140087653660752+ -->\n<g id=\"edge8\" class=\"edge\">\n<title>140087653662352&#45;&gt;140087653660752+</title>\n<path fill=\"none\" stroke=\"#000000\" d=\"M470.2424,-84.2934C479.5641,-82.5416 488.6342,-80.8372 496.849,-79.2935\"/>\n<polygon fill=\"#000000\" stroke=\"#000000\" points=\"497.57,-82.7193 506.7515,-77.4326 496.2771,-75.8398 497.57,-82.7193\"/>\n</g>\n<!-- 140087653661392 -->\n<g id=\"node4\" class=\"node\">\n<title>140087653661392</title>\n<polygon fill=\"none\" stroke=\"#000000\" points=\"0,-55.5 0,-91.5 172,-91.5 172,-55.5 0,-55.5\"/>\n<text text-anchor=\"middle\" x=\"42.5\" y=\"-69.8\" font-family=\"Times,serif\" font-size=\"14.00\" fill=\"#000000\">data 0.5000</text>\n<polyline fill=\"none\" stroke=\"#000000\" points=\"85,-55.5 85,-91.5 \"/>\n<text text-anchor=\"middle\" x=\"128.5\" y=\"-69.8\" font-family=\"Times,serif\" font-size=\"14.00\" fill=\"#000000\">grad 0.0000</text>\n</g>\n<!-- 140087653660432+ -->\n<g id=\"node8\" class=\"node\">\n<title>140087653660432+</title>\n<ellipse fill=\"none\" stroke=\"#000000\" cx=\"235\" cy=\"-45.5\" rx=\"27\" ry=\"18\"/>\n<text text-anchor=\"middle\" x=\"235\" y=\"-41.8\" font-family=\"Times,serif\" font-size=\"14.00\" fill=\"#000000\">+</text>\n</g>\n<!-- 140087653661392&#45;&gt;140087653660432+ -->\n<g id=\"edge7\" class=\"edge\">\n<title>140087653661392&#45;&gt;140087653660432+</title>\n<path fill=\"none\" stroke=\"#000000\" d=\"M172.2424,-57.2934C181.5641,-55.5416 190.6342,-53.8372 198.849,-52.2935\"/>\n<polygon fill=\"#000000\" stroke=\"#000000\" points=\"199.57,-55.7193 208.7515,-50.4326 198.2771,-48.8398 199.57,-55.7193\"/>\n</g>\n<!-- 140087653661456 -->\n<g id=\"node5\" class=\"node\">\n<title>140087653661456</title>\n<polygon fill=\"none\" stroke=\"#000000\" points=\"894,-54.5 894,-90.5 1066,-90.5 1066,-54.5 894,-54.5\"/>\n<text text-anchor=\"middle\" x=\"936.5\" y=\"-68.8\" font-family=\"Times,serif\" font-size=\"14.00\" fill=\"#000000\">data 0.8617</text>\n<polyline fill=\"none\" stroke=\"#000000\" points=\"979,-54.5 979,-90.5 \"/>\n<text text-anchor=\"middle\" x=\"1022.5\" y=\"-68.8\" font-family=\"Times,serif\" font-size=\"14.00\" fill=\"#000000\">grad 0.0000</text>\n</g>\n<!-- 140087653661456tanh&#45;&gt;140087653661456 -->\n<g id=\"edge2\" class=\"edge\">\n<title>140087653661456tanh&#45;&gt;140087653661456</title>\n<path fill=\"none\" stroke=\"#000000\" d=\"M858.3289,-72.5C865.9177,-72.5 874.6158,-72.5 883.7956,-72.5\"/>\n<polygon fill=\"#000000\" stroke=\"#000000\" points=\"883.9161,-76.0001 893.9161,-72.5 883.9161,-69.0001 883.9161,-76.0001\"/>\n</g>\n<!-- 140087653660432 -->\n<g id=\"node7\" class=\"node\">\n<title>140087653660432</title>\n<polygon fill=\"none\" stroke=\"#000000\" points=\"298,-27.5 298,-63.5 470,-63.5 470,-27.5 298,-27.5\"/>\n<text text-anchor=\"middle\" x=\"340.5\" y=\"-41.8\" font-family=\"Times,serif\" font-size=\"14.00\" fill=\"#000000\">data 0.9000</text>\n<polyline fill=\"none\" stroke=\"#000000\" points=\"383,-27.5 383,-63.5 \"/>\n<text text-anchor=\"middle\" x=\"426.5\" y=\"-41.8\" font-family=\"Times,serif\" font-size=\"14.00\" fill=\"#000000\">grad 0.0000</text>\n</g>\n<!-- 140087653660432&#45;&gt;140087653660752+ -->\n<g id=\"edge5\" class=\"edge\">\n<title>140087653660432&#45;&gt;140087653660752+</title>\n<path fill=\"none\" stroke=\"#000000\" d=\"M470.2424,-61.1278C479.5641,-62.817 488.6342,-64.4606 496.849,-65.9491\"/>\n<polygon fill=\"#000000\" stroke=\"#000000\" points=\"496.2877,-69.4044 506.7515,-67.7436 497.5359,-62.5165 496.2877,-69.4044\"/>\n</g>\n<!-- 140087653660432+&#45;&gt;140087653660432 -->\n<g id=\"edge3\" class=\"edge\">\n<title>140087653660432+&#45;&gt;140087653660432</title>\n<path fill=\"none\" stroke=\"#000000\" d=\"M262.3289,-45.5C269.9177,-45.5 278.6158,-45.5 287.7956,-45.5\"/>\n<polygon fill=\"#000000\" stroke=\"#000000\" points=\"287.9161,-49.0001 297.9161,-45.5 287.9161,-42.0001 287.9161,-49.0001\"/>\n</g>\n<!-- 140087653661136 -->\n<g id=\"node9\" class=\"node\">\n<title>140087653661136</title>\n<polygon fill=\"none\" stroke=\"#000000\" points=\"0,-.5 0,-36.5 172,-36.5 172,-.5 0,-.5\"/>\n<text text-anchor=\"middle\" x=\"42.5\" y=\"-14.8\" font-family=\"Times,serif\" font-size=\"14.00\" fill=\"#000000\">data 0.4000</text>\n<polyline fill=\"none\" stroke=\"#000000\" points=\"85,-.5 85,-36.5 \"/>\n<text text-anchor=\"middle\" x=\"128.5\" y=\"-14.8\" font-family=\"Times,serif\" font-size=\"14.00\" fill=\"#000000\">grad 0.0000</text>\n</g>\n<!-- 140087653661136&#45;&gt;140087653660432+ -->\n<g id=\"edge4\" class=\"edge\">\n<title>140087653661136&#45;&gt;140087653660432+</title>\n<path fill=\"none\" stroke=\"#000000\" d=\"M172.2424,-34.1278C181.5641,-35.817 190.6342,-37.4606 198.849,-38.9491\"/>\n<polygon fill=\"#000000\" stroke=\"#000000\" points=\"198.2877,-42.4044 208.7515,-40.7436 199.5359,-35.5165 198.2877,-42.4044\"/>\n</g>\n</g>\n</svg>\n"
          },
          "metadata": {},
          "execution_count": 29
        }
      ]
    },
    {
      "cell_type": "code",
      "source": [
        "e.grad = 1.0\n",
        "e._backward()\n",
        "d._backward()"
      ],
      "metadata": {
        "id": "tj7sWA6UJKLv"
      },
      "execution_count": null,
      "outputs": []
    },
    {
      "cell_type": "code",
      "source": [
        "draw_dot(e)"
      ],
      "metadata": {
        "colab": {
          "base_uri": "https://localhost:8080/",
          "height": 189
        },
        "id": "I_Xe5SdDJRQH",
        "outputId": "61736ef6-d3bf-4161-f3c9-5b65ec634bd0"
      },
      "execution_count": null,
      "outputs": [
        {
          "output_type": "execute_result",
          "data": {
            "text/plain": [
              "<graphviz.dot.Digraph at 0x7f68b2cb1290>"
            ],
            "image/svg+xml": "<?xml version=\"1.0\" encoding=\"UTF-8\" standalone=\"no\"?>\n<!DOCTYPE svg PUBLIC \"-//W3C//DTD SVG 1.1//EN\"\n \"http://www.w3.org/Graphics/SVG/1.1/DTD/svg11.dtd\">\n<!-- Generated by graphviz version 2.40.1 (20161225.0304)\n -->\n<!-- Title: %3 Pages: 1 -->\n<svg width=\"1074pt\" height=\"127pt\"\n viewBox=\"0.00 0.00 1074.00 127.00\" xmlns=\"http://www.w3.org/2000/svg\" xmlns:xlink=\"http://www.w3.org/1999/xlink\">\n<g id=\"graph0\" class=\"graph\" transform=\"scale(1 1) rotate(0) translate(4 123)\">\n<title>%3</title>\n<polygon fill=\"#ffffff\" stroke=\"transparent\" points=\"-4,4 -4,-123 1070,-123 1070,4 -4,4\"/>\n<!-- 140087653660752 -->\n<g id=\"node1\" class=\"node\">\n<title>140087653660752</title>\n<polygon fill=\"none\" stroke=\"#000000\" points=\"596,-54.5 596,-90.5 768,-90.5 768,-54.5 596,-54.5\"/>\n<text text-anchor=\"middle\" x=\"638.5\" y=\"-68.8\" font-family=\"Times,serif\" font-size=\"14.00\" fill=\"#000000\">data 1.3000</text>\n<polyline fill=\"none\" stroke=\"#000000\" points=\"681,-54.5 681,-90.5 \"/>\n<text text-anchor=\"middle\" x=\"724.5\" y=\"-68.8\" font-family=\"Times,serif\" font-size=\"14.00\" fill=\"#000000\">grad 0.2574</text>\n</g>\n<!-- 140087653661456tanh -->\n<g id=\"node6\" class=\"node\">\n<title>140087653661456tanh</title>\n<ellipse fill=\"none\" stroke=\"#000000\" cx=\"831\" cy=\"-72.5\" rx=\"27\" ry=\"18\"/>\n<text text-anchor=\"middle\" x=\"831\" y=\"-68.8\" font-family=\"Times,serif\" font-size=\"14.00\" fill=\"#000000\">tanh</text>\n</g>\n<!-- 140087653660752&#45;&gt;140087653661456tanh -->\n<g id=\"edge6\" class=\"edge\">\n<title>140087653660752&#45;&gt;140087653661456tanh</title>\n<path fill=\"none\" stroke=\"#000000\" d=\"M768.2424,-72.5C777.0915,-72.5 785.7138,-72.5 793.593,-72.5\"/>\n<polygon fill=\"#000000\" stroke=\"#000000\" points=\"793.8282,-76.0001 803.8281,-72.5 793.8281,-69.0001 793.8282,-76.0001\"/>\n</g>\n<!-- 140087653660752+ -->\n<g id=\"node2\" class=\"node\">\n<title>140087653660752+</title>\n<ellipse fill=\"none\" stroke=\"#000000\" cx=\"533\" cy=\"-72.5\" rx=\"27\" ry=\"18\"/>\n<text text-anchor=\"middle\" x=\"533\" y=\"-68.8\" font-family=\"Times,serif\" font-size=\"14.00\" fill=\"#000000\">+</text>\n</g>\n<!-- 140087653660752+&#45;&gt;140087653660752 -->\n<g id=\"edge1\" class=\"edge\">\n<title>140087653660752+&#45;&gt;140087653660752</title>\n<path fill=\"none\" stroke=\"#000000\" d=\"M560.3289,-72.5C567.9177,-72.5 576.6158,-72.5 585.7956,-72.5\"/>\n<polygon fill=\"#000000\" stroke=\"#000000\" points=\"585.9161,-76.0001 595.9161,-72.5 585.9161,-69.0001 585.9161,-76.0001\"/>\n</g>\n<!-- 140087653662352 -->\n<g id=\"node3\" class=\"node\">\n<title>140087653662352</title>\n<polygon fill=\"none\" stroke=\"#000000\" points=\"298,-82.5 298,-118.5 470,-118.5 470,-82.5 298,-82.5\"/>\n<text text-anchor=\"middle\" x=\"340.5\" y=\"-96.8\" font-family=\"Times,serif\" font-size=\"14.00\" fill=\"#000000\">data 0.4000</text>\n<polyline fill=\"none\" stroke=\"#000000\" points=\"383,-82.5 383,-118.5 \"/>\n<text text-anchor=\"middle\" x=\"426.5\" y=\"-96.8\" font-family=\"Times,serif\" font-size=\"14.00\" fill=\"#000000\">grad 0.2574</text>\n</g>\n<!-- 140087653662352&#45;&gt;140087653660752+ -->\n<g id=\"edge8\" class=\"edge\">\n<title>140087653662352&#45;&gt;140087653660752+</title>\n<path fill=\"none\" stroke=\"#000000\" d=\"M470.2424,-84.2934C479.5641,-82.5416 488.6342,-80.8372 496.849,-79.2935\"/>\n<polygon fill=\"#000000\" stroke=\"#000000\" points=\"497.57,-82.7193 506.7515,-77.4326 496.2771,-75.8398 497.57,-82.7193\"/>\n</g>\n<!-- 140087653661392 -->\n<g id=\"node4\" class=\"node\">\n<title>140087653661392</title>\n<polygon fill=\"none\" stroke=\"#000000\" points=\"0,-55.5 0,-91.5 172,-91.5 172,-55.5 0,-55.5\"/>\n<text text-anchor=\"middle\" x=\"42.5\" y=\"-69.8\" font-family=\"Times,serif\" font-size=\"14.00\" fill=\"#000000\">data 0.5000</text>\n<polyline fill=\"none\" stroke=\"#000000\" points=\"85,-55.5 85,-91.5 \"/>\n<text text-anchor=\"middle\" x=\"128.5\" y=\"-69.8\" font-family=\"Times,serif\" font-size=\"14.00\" fill=\"#000000\">grad 0.0000</text>\n</g>\n<!-- 140087653660432+ -->\n<g id=\"node8\" class=\"node\">\n<title>140087653660432+</title>\n<ellipse fill=\"none\" stroke=\"#000000\" cx=\"235\" cy=\"-45.5\" rx=\"27\" ry=\"18\"/>\n<text text-anchor=\"middle\" x=\"235\" y=\"-41.8\" font-family=\"Times,serif\" font-size=\"14.00\" fill=\"#000000\">+</text>\n</g>\n<!-- 140087653661392&#45;&gt;140087653660432+ -->\n<g id=\"edge7\" class=\"edge\">\n<title>140087653661392&#45;&gt;140087653660432+</title>\n<path fill=\"none\" stroke=\"#000000\" d=\"M172.2424,-57.2934C181.5641,-55.5416 190.6342,-53.8372 198.849,-52.2935\"/>\n<polygon fill=\"#000000\" stroke=\"#000000\" points=\"199.57,-55.7193 208.7515,-50.4326 198.2771,-48.8398 199.57,-55.7193\"/>\n</g>\n<!-- 140087653661456 -->\n<g id=\"node5\" class=\"node\">\n<title>140087653661456</title>\n<polygon fill=\"none\" stroke=\"#000000\" points=\"894,-54.5 894,-90.5 1066,-90.5 1066,-54.5 894,-54.5\"/>\n<text text-anchor=\"middle\" x=\"936.5\" y=\"-68.8\" font-family=\"Times,serif\" font-size=\"14.00\" fill=\"#000000\">data 0.8617</text>\n<polyline fill=\"none\" stroke=\"#000000\" points=\"979,-54.5 979,-90.5 \"/>\n<text text-anchor=\"middle\" x=\"1022.5\" y=\"-68.8\" font-family=\"Times,serif\" font-size=\"14.00\" fill=\"#000000\">grad 1.0000</text>\n</g>\n<!-- 140087653661456tanh&#45;&gt;140087653661456 -->\n<g id=\"edge2\" class=\"edge\">\n<title>140087653661456tanh&#45;&gt;140087653661456</title>\n<path fill=\"none\" stroke=\"#000000\" d=\"M858.3289,-72.5C865.9177,-72.5 874.6158,-72.5 883.7956,-72.5\"/>\n<polygon fill=\"#000000\" stroke=\"#000000\" points=\"883.9161,-76.0001 893.9161,-72.5 883.9161,-69.0001 883.9161,-76.0001\"/>\n</g>\n<!-- 140087653660432 -->\n<g id=\"node7\" class=\"node\">\n<title>140087653660432</title>\n<polygon fill=\"none\" stroke=\"#000000\" points=\"298,-27.5 298,-63.5 470,-63.5 470,-27.5 298,-27.5\"/>\n<text text-anchor=\"middle\" x=\"340.5\" y=\"-41.8\" font-family=\"Times,serif\" font-size=\"14.00\" fill=\"#000000\">data 0.9000</text>\n<polyline fill=\"none\" stroke=\"#000000\" points=\"383,-27.5 383,-63.5 \"/>\n<text text-anchor=\"middle\" x=\"426.5\" y=\"-41.8\" font-family=\"Times,serif\" font-size=\"14.00\" fill=\"#000000\">grad 0.2574</text>\n</g>\n<!-- 140087653660432&#45;&gt;140087653660752+ -->\n<g id=\"edge5\" class=\"edge\">\n<title>140087653660432&#45;&gt;140087653660752+</title>\n<path fill=\"none\" stroke=\"#000000\" d=\"M470.2424,-61.1278C479.5641,-62.817 488.6342,-64.4606 496.849,-65.9491\"/>\n<polygon fill=\"#000000\" stroke=\"#000000\" points=\"496.2877,-69.4044 506.7515,-67.7436 497.5359,-62.5165 496.2877,-69.4044\"/>\n</g>\n<!-- 140087653660432+&#45;&gt;140087653660432 -->\n<g id=\"edge3\" class=\"edge\">\n<title>140087653660432+&#45;&gt;140087653660432</title>\n<path fill=\"none\" stroke=\"#000000\" d=\"M262.3289,-45.5C269.9177,-45.5 278.6158,-45.5 287.7956,-45.5\"/>\n<polygon fill=\"#000000\" stroke=\"#000000\" points=\"287.9161,-49.0001 297.9161,-45.5 287.9161,-42.0001 287.9161,-49.0001\"/>\n</g>\n<!-- 140087653661136 -->\n<g id=\"node9\" class=\"node\">\n<title>140087653661136</title>\n<polygon fill=\"none\" stroke=\"#000000\" points=\"0,-.5 0,-36.5 172,-36.5 172,-.5 0,-.5\"/>\n<text text-anchor=\"middle\" x=\"42.5\" y=\"-14.8\" font-family=\"Times,serif\" font-size=\"14.00\" fill=\"#000000\">data 0.4000</text>\n<polyline fill=\"none\" stroke=\"#000000\" points=\"85,-.5 85,-36.5 \"/>\n<text text-anchor=\"middle\" x=\"128.5\" y=\"-14.8\" font-family=\"Times,serif\" font-size=\"14.00\" fill=\"#000000\">grad 0.0000</text>\n</g>\n<!-- 140087653661136&#45;&gt;140087653660432+ -->\n<g id=\"edge4\" class=\"edge\">\n<title>140087653661136&#45;&gt;140087653660432+</title>\n<path fill=\"none\" stroke=\"#000000\" d=\"M172.2424,-34.1278C181.5641,-35.817 190.6342,-37.4606 198.849,-38.9491\"/>\n<polygon fill=\"#000000\" stroke=\"#000000\" points=\"198.2877,-42.4044 208.7515,-40.7436 199.5359,-35.5165 198.2877,-42.4044\"/>\n</g>\n</g>\n</svg>\n"
          },
          "metadata": {},
          "execution_count": 31
        }
      ]
    },
    {
      "cell_type": "code",
      "source": [
        " "
      ],
      "metadata": {
        "id": "u8Y2C03BnLou"
      },
      "execution_count": null,
      "outputs": []
    }
  ]
}