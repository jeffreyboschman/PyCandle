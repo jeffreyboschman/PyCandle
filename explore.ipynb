{
  "cells": [
    {
      "cell_type": "code",
      "execution_count": 2,
      "metadata": {
        "colab": {
          "base_uri": "https://localhost:8080/"
        },
        "id": "mbXUyb2wVHP5",
        "outputId": "3cd71c21-43f3-480e-f4a7-d67f0c789304"
      },
      "outputs": [],
      "source": [
        "#!pip install graphviz\n",
        "from typing import Union, Tuple, List, Set, Callable\n",
        "from graphviz import Digraph\n",
        "import math"
      ]
    },
    {
      "cell_type": "code",
      "execution_count": 3,
      "metadata": {
        "id": "oTPsVhqhVFhl"
      },
      "outputs": [],
      "source": [
        "def trace(root):\n",
        "    # builds a set of all nodes and edges in a graph\n",
        "    nodes, edges = set(), set()\n",
        "    def build(v):\n",
        "        if v not in nodes:\n",
        "            nodes.add(v)\n",
        "            for child in v._prev:\n",
        "                edges.add((child, v))\n",
        "                build(child)\n",
        "    build(root)\n",
        "    return nodes, edges\n",
        "\n",
        "def draw_dot(root, format='svg', rankdir='LR'):\n",
        "    \"\"\"\n",
        "    format: png | svg | ...\n",
        "    rankdir: TB (top to bottom graph) | LR (left to right)\n",
        "    \"\"\"\n",
        "    assert rankdir in ['LR', 'TB']\n",
        "    nodes, edges = trace(root)\n",
        "    dot = Digraph(format=format, graph_attr={'rankdir': rankdir}) #, node_attr={'rankdir': 'TB'})\n",
        "    \n",
        "    for n in nodes:\n",
        "        # for any value in the graph, create a rectangular ('record') node for it\n",
        "        dot.node(name=str(id(n)), label = \"{ data %.4f | grad %.4f }\" % (n.data, n.grad), shape='record')\n",
        "        #dot.node(name=str(id(n)), label = \"{ data %.4f | grad}\" % (n.data), shape='record')\n",
        "\n",
        "        if n._op:\n",
        "            # if this value is a result of some operation, create an op node for it\n",
        "            dot.node(name=str(id(n)) + n._op, label=n._op)\n",
        "            dot.edge(str(id(n)) + n._op, str(id(n)))\n",
        "    \n",
        "    for n1, n2 in edges:\n",
        "        # connect n1 to the op node of n2\n",
        "        dot.edge(str(id(n1)), str(id(n2)) + n2._op)\n",
        "    \n",
        "    return dot"
      ]
    },
    {
      "cell_type": "code",
      "execution_count": 14,
      "metadata": {
        "id": "kPRWOTzRc7zW"
      },
      "outputs": [],
      "source": [
        "class Value():\n",
        "    def __init__(self, data: Union[float, int], _children: Tuple[\"Value\", ...]=(), _op: str=\"\") -> None:\n",
        "        \"\"\"Initializes a scalar with its data.\"\"\"\n",
        "        self.data = float(data)\n",
        "        self.grad = 0.0\n",
        "\n",
        "        self._prev = set(_children)\n",
        "        self._op = _op\n",
        "        self._backward = lambda: None\n",
        "\n",
        "\n",
        "    def __repr__(self):\n",
        "        \"\"\"Returns a printable representation of the given Value object.\"\"\"\n",
        "        return f\"Value(data={self.data})\"\n",
        "\n",
        "\n",
        "    def __add__(self, other: Union[\"Value\", float, int]): \n",
        "        \"\"\"Adds two Value objects (or a Value object with a Python int/float). e.g., self + other\"\"\"\n",
        "        _other = other if isinstance(other, Value) else Value(other)\n",
        "        out = Value(self.data + _other.data, _children = (self, _other), _op = \"+\")\n",
        "\n",
        "        def _backward() -> None:\n",
        "            \"\"\"Going backwards through the computation graph, calculates the deriviates of the final node w.r.t. self and other (for this addition operation).\n",
        "            Via the chain rule, self.grad = (the local derivative d(out)/d(self)) * (the gradient of out w.r.t. the final node (which was already calculated since we are going backward)).\n",
        "            Via the chain rule, _other.grad = (the local derivative d(out)/d(_other)) * (the gradient of out w.r.t. the final node).\n",
        "            The reason it is `+=` (instead of just `=`) is because each `self` and `_other` object could have been used for calculating many `out` objects, and so you need to add those gradients together.\"\"\" \n",
        "            self.grad += (1 * out.grad)     # local derivative for addition: d(out)/d(self) = 1\n",
        "            _other.grad += (1 * out.grad)   # local derivative for addition: d(out)/d(_other) = 1\n",
        "        out._backward = _backward\n",
        "\n",
        "        return out\n",
        "\n",
        "    def __mul__(self, other: Union[\"Value\", float, int]):\n",
        "        \"\"\"Multiplies two Value objects (or a Value object with a Python int/float). e.g., self * other\"\"\"\n",
        "        _other = other if isinstance(other, Value) else Value(other)\n",
        "        out = Value(self.data * _other.data, _children = (self, _other), _op = \"*\")\n",
        "\n",
        "        def _backward() -> None:\n",
        "            \"\"\"Going backwards through the computation graph, calculates the deriviates of the final node w.r.t. self and other (for this multiplication operation).\"\"\" \n",
        "            self.grad += (_other.data * out.grad)   # local derivative for multiplication: d(out)/d(self) = _other\n",
        "            _other.grad += (self.data * out.grad)   # local derivative for multiplication: d(out)/d(_other) = self\n",
        "        out._backward = _backward\n",
        "\n",
        "        return out\n",
        "\n",
        "    def __pow__(self, other: Union[float, int]):\n",
        "        \"\"\"The derivative expression would be different if we the power was another Value object. (it would be like x^y instead of x^2)\"\"\"\n",
        "        assert isinstance(other, (float, int))\n",
        "        _other = other\n",
        "        out = Value(self.data ** _other.data, _children = (self, _other), _op = f\"**{other}\")\n",
        "\n",
        "        def _backward() -> None:\n",
        "            \"\"\"Going backwards through the computation graph, calculates the deriviates of the final node w.r.t. self and other (for this multiplication operation).\"\"\" \n",
        "            self.grad += (_other * self.data**(_other -1)) * out.grad   # local derivative for multiplication: d(out)/d(self) = _other\n",
        "            #_other.grad += ???   # WHAT IS THIS\n",
        "        out._backward = _backward\n",
        "        return out\n",
        "\n",
        "    def __neg__(self): # -self\n",
        "        return self * -1\n",
        "\n",
        "    def __sub__(self, other): # self - other\n",
        "        return self + (-other)\n",
        "\n",
        "    def __rsub__(self, other): # other - self\n",
        "        return other + (-self)\n",
        "    \n",
        "    def __truediv__(self, other: Union[\"Value\", float, int]):\n",
        "        return self * other**(-1)\n",
        "\n",
        "\n",
        "\n",
        "    def exp(self):\n",
        "        x = self.data\n",
        "        out = Value(math.exp(x), (self, ), _op = 'exp')\n",
        "\n",
        "        def _backward() -> None:\n",
        "            self.grad += out.data * out.grad    # local derivative of exp: d(out)/d(self) = \n",
        "        out._backward = _backward\n",
        "\n",
        "        return out\n",
        "\n",
        "    def tanh(self):\n",
        "        x = self.data\n",
        "        tanh_x = (math.exp(2*x) - 1)/(math.exp(2*x) + 1) \n",
        "        out = Value(tanh_x, _children = (self, ), _op = \"tanh\")\n",
        "\n",
        "        def _backward() -> None:\n",
        "            self.grad += (1 - tanh_x**2) * out.grad    # local derivative of tanh: d(out)/d(self) = 1 - tanh(selsf)^2\n",
        "        out._backward = _backward\n",
        "\n",
        "        return out\n",
        "\n",
        "    def backward(self):\n",
        "        \"\"\"Calculates the gradients of the final node (self) w.r.t. each node.\"\"\"\n",
        "        # topological order all of the children in the graph\n",
        "        topo = []\n",
        "        visited = set()\n",
        "        def build_topo(v):\n",
        "            if v not in visited:\n",
        "                visited.add(v)\n",
        "                for child in v._prev:\n",
        "                    build_topo(child)\n",
        "                topo.append(v)\n",
        "        build_topo(self)\n",
        "\n",
        "        # go one variable at a time and apply the chain rule to get its gradient\n",
        "        self.grad = 1.0\n",
        "        for v in reversed(topo):\n",
        "            v._backward()\n",
        "\n",
        "\n",
        "    def __sub__(self, other):\n",
        "        pass\n",
        "\n",
        "    def __radd__(self, other: Union[\"Value\", float, int]):\n",
        "        \"\"\"Adds a Python int/float with a Value object. e.g., other + self\n",
        "\n",
        "        Without this method, if a command were `a = 2 + Value(3)`, a TypeError would occur \n",
        "        because Python does not know what to do with 2.__add__(Value(3)).\"\"\"\n",
        "        return self + other\n",
        "\n",
        "\n",
        "    def __rmul__(self, other: Union[\"Value\", float, int]):\n",
        "        \"\"\"Multiplies a Python int/float with a Value object. e.g., other * self\n",
        "\n",
        "        Without this method, if a command were `a = 2 * Value(3)`, a TypeError would occur \n",
        "        because Python does not know what to do with 2.__mul__(Value(3)).\"\"\"\n",
        "        return self * other\n",
        "\n"
      ]
    },
    {
      "cell_type": "code",
      "execution_count": 19,
      "metadata": {
        "id": "H9WGtgYRe4vM"
      },
      "outputs": [],
      "source": [
        "a = Value(0.4)\n",
        "b = Value(0.5)\n",
        "c = a + b\n",
        "d = 0.4 * c\n",
        "e = d.tanh()\n"
      ]
    },
    {
      "cell_type": "code",
      "execution_count": 20,
      "metadata": {
        "colab": {
          "base_uri": "https://localhost:8080/",
          "height": 189
        },
        "id": "HfwiQaKPe_NL",
        "outputId": "9e8f4a21-dbf7-4627-efe3-5e415164ac10"
      },
      "outputs": [
        {
          "data": {
            "image/svg+xml": "<?xml version=\"1.0\" encoding=\"UTF-8\" standalone=\"no\"?>\n<!DOCTYPE svg PUBLIC \"-//W3C//DTD SVG 1.1//EN\"\n \"http://www.w3.org/Graphics/SVG/1.1/DTD/svg11.dtd\">\n<!-- Generated by graphviz version 2.50.0 (0)\n -->\n<!-- Pages: 1 -->\n<svg width=\"1034pt\" height=\"128pt\"\n viewBox=\"0.00 0.00 1034.00 128.00\" xmlns=\"http://www.w3.org/2000/svg\" xmlns:xlink=\"http://www.w3.org/1999/xlink\">\n<g id=\"graph0\" class=\"graph\" transform=\"scale(1 1) rotate(0) translate(4 124)\">\n<polygon fill=\"white\" stroke=\"transparent\" points=\"-4,4 -4,-124 1030,-124 1030,4 -4,4\"/>\n<!-- 140251567027248 -->\n<g id=\"node1\" class=\"node\">\n<title>140251567027248</title>\n<polygon fill=\"none\" stroke=\"black\" points=\"0,-83.5 0,-119.5 162,-119.5 162,-83.5 0,-83.5\"/>\n<text text-anchor=\"middle\" x=\"40\" y=\"-97.8\" font-family=\"Times,serif\" font-size=\"14.00\">data 0.4000</text>\n<polyline fill=\"none\" stroke=\"black\" points=\"80,-83.5 80,-119.5 \"/>\n<text text-anchor=\"middle\" x=\"121\" y=\"-97.8\" font-family=\"Times,serif\" font-size=\"14.00\">grad 0.0000</text>\n</g>\n<!-- 140251567030032+ -->\n<g id=\"node7\" class=\"node\">\n<title>140251567030032+</title>\n<ellipse fill=\"none\" stroke=\"black\" cx=\"225\" cy=\"-73.5\" rx=\"27\" ry=\"18\"/>\n<text text-anchor=\"middle\" x=\"225\" y=\"-69.8\" font-family=\"Times,serif\" font-size=\"14.00\">+</text>\n</g>\n<!-- 140251567027248&#45;&gt;140251567030032+ -->\n<g id=\"edge7\" class=\"edge\">\n<title>140251567027248&#45;&gt;140251567030032+</title>\n<path fill=\"none\" stroke=\"black\" d=\"M162.13,-85.7C171.51,-83.85 180.67,-82.04 188.94,-80.41\"/>\n<polygon fill=\"black\" stroke=\"black\" points=\"189.77,-83.82 198.9,-78.45 188.42,-76.95 189.77,-83.82\"/>\n</g>\n<!-- 140251567028880 -->\n<g id=\"node2\" class=\"node\">\n<title>140251567028880</title>\n<polygon fill=\"none\" stroke=\"black\" points=\"576,-27.5 576,-63.5 738,-63.5 738,-27.5 576,-27.5\"/>\n<text text-anchor=\"middle\" x=\"616\" y=\"-41.8\" font-family=\"Times,serif\" font-size=\"14.00\">data 0.3600</text>\n<polyline fill=\"none\" stroke=\"black\" points=\"656,-27.5 656,-63.5 \"/>\n<text text-anchor=\"middle\" x=\"697\" y=\"-41.8\" font-family=\"Times,serif\" font-size=\"14.00\">grad 0.0000</text>\n</g>\n<!-- 140251567027680tanh -->\n<g id=\"node9\" class=\"node\">\n<title>140251567027680tanh</title>\n<ellipse fill=\"none\" stroke=\"black\" cx=\"801\" cy=\"-45.5\" rx=\"27\" ry=\"18\"/>\n<text text-anchor=\"middle\" x=\"801\" y=\"-41.8\" font-family=\"Times,serif\" font-size=\"14.00\">tanh</text>\n</g>\n<!-- 140251567028880&#45;&gt;140251567027680tanh -->\n<g id=\"edge6\" class=\"edge\">\n<title>140251567028880&#45;&gt;140251567027680tanh</title>\n<path fill=\"none\" stroke=\"black\" d=\"M738.13,-45.5C746.95,-45.5 755.58,-45.5 763.47,-45.5\"/>\n<polygon fill=\"black\" stroke=\"black\" points=\"763.7,-49 773.7,-45.5 763.7,-42 763.7,-49\"/>\n</g>\n<!-- 140251567028880* -->\n<g id=\"node3\" class=\"node\">\n<title>140251567028880*</title>\n<ellipse fill=\"none\" stroke=\"black\" cx=\"513\" cy=\"-45.5\" rx=\"27\" ry=\"18\"/>\n<text text-anchor=\"middle\" x=\"513\" y=\"-41.8\" font-family=\"Times,serif\" font-size=\"14.00\">*</text>\n</g>\n<!-- 140251567028880*&#45;&gt;140251567028880 -->\n<g id=\"edge1\" class=\"edge\">\n<title>140251567028880*&#45;&gt;140251567028880</title>\n<path fill=\"none\" stroke=\"black\" d=\"M540.04,-45.5C547.63,-45.5 556.38,-45.5 565.6,-45.5\"/>\n<polygon fill=\"black\" stroke=\"black\" points=\"565.76,-49 575.76,-45.5 565.76,-42 565.76,-49\"/>\n</g>\n<!-- 140251565926064 -->\n<g id=\"node4\" class=\"node\">\n<title>140251565926064</title>\n<polygon fill=\"none\" stroke=\"black\" points=\"0,-28.5 0,-64.5 162,-64.5 162,-28.5 0,-28.5\"/>\n<text text-anchor=\"middle\" x=\"40\" y=\"-42.8\" font-family=\"Times,serif\" font-size=\"14.00\">data 0.5000</text>\n<polyline fill=\"none\" stroke=\"black\" points=\"80,-28.5 80,-64.5 \"/>\n<text text-anchor=\"middle\" x=\"121\" y=\"-42.8\" font-family=\"Times,serif\" font-size=\"14.00\">grad 0.0000</text>\n</g>\n<!-- 140251565926064&#45;&gt;140251567030032+ -->\n<g id=\"edge8\" class=\"edge\">\n<title>140251565926064&#45;&gt;140251567030032+</title>\n<path fill=\"none\" stroke=\"black\" d=\"M162.13,-61.74C171.51,-63.52 180.67,-65.26 188.94,-66.83\"/>\n<polygon fill=\"black\" stroke=\"black\" points=\"188.43,-70.3 198.9,-68.73 189.73,-63.42 188.43,-70.3\"/>\n</g>\n<!-- 140251567028928 -->\n<g id=\"node5\" class=\"node\">\n<title>140251567028928</title>\n<polygon fill=\"none\" stroke=\"black\" points=\"288,-0.5 288,-36.5 450,-36.5 450,-0.5 288,-0.5\"/>\n<text text-anchor=\"middle\" x=\"328\" y=\"-14.8\" font-family=\"Times,serif\" font-size=\"14.00\">data 0.4000</text>\n<polyline fill=\"none\" stroke=\"black\" points=\"368,-0.5 368,-36.5 \"/>\n<text text-anchor=\"middle\" x=\"409\" y=\"-14.8\" font-family=\"Times,serif\" font-size=\"14.00\">grad 0.0000</text>\n</g>\n<!-- 140251567028928&#45;&gt;140251567028880* -->\n<g id=\"edge5\" class=\"edge\">\n<title>140251567028928&#45;&gt;140251567028880*</title>\n<path fill=\"none\" stroke=\"black\" d=\"M450.13,-33.74C459.51,-35.52 468.67,-37.26 476.94,-38.83\"/>\n<polygon fill=\"black\" stroke=\"black\" points=\"476.43,-42.3 486.9,-40.73 477.73,-35.42 476.43,-42.3\"/>\n</g>\n<!-- 140251567030032 -->\n<g id=\"node6\" class=\"node\">\n<title>140251567030032</title>\n<polygon fill=\"none\" stroke=\"black\" points=\"288,-55.5 288,-91.5 450,-91.5 450,-55.5 288,-55.5\"/>\n<text text-anchor=\"middle\" x=\"328\" y=\"-69.8\" font-family=\"Times,serif\" font-size=\"14.00\">data 0.9000</text>\n<polyline fill=\"none\" stroke=\"black\" points=\"368,-55.5 368,-91.5 \"/>\n<text text-anchor=\"middle\" x=\"409\" y=\"-69.8\" font-family=\"Times,serif\" font-size=\"14.00\">grad 0.0000</text>\n</g>\n<!-- 140251567030032&#45;&gt;140251567028880* -->\n<g id=\"edge4\" class=\"edge\">\n<title>140251567030032&#45;&gt;140251567028880*</title>\n<path fill=\"none\" stroke=\"black\" d=\"M450.13,-57.7C459.51,-55.85 468.67,-54.04 476.94,-52.41\"/>\n<polygon fill=\"black\" stroke=\"black\" points=\"477.77,-55.82 486.9,-50.45 476.42,-48.95 477.77,-55.82\"/>\n</g>\n<!-- 140251567030032+&#45;&gt;140251567030032 -->\n<g id=\"edge2\" class=\"edge\">\n<title>140251567030032+&#45;&gt;140251567030032</title>\n<path fill=\"none\" stroke=\"black\" d=\"M252.04,-73.5C259.63,-73.5 268.38,-73.5 277.6,-73.5\"/>\n<polygon fill=\"black\" stroke=\"black\" points=\"277.76,-77 287.76,-73.5 277.76,-70 277.76,-77\"/>\n</g>\n<!-- 140251567027680 -->\n<g id=\"node8\" class=\"node\">\n<title>140251567027680</title>\n<polygon fill=\"none\" stroke=\"black\" points=\"864,-27.5 864,-63.5 1026,-63.5 1026,-27.5 864,-27.5\"/>\n<text text-anchor=\"middle\" x=\"904\" y=\"-41.8\" font-family=\"Times,serif\" font-size=\"14.00\">data 0.3452</text>\n<polyline fill=\"none\" stroke=\"black\" points=\"944,-27.5 944,-63.5 \"/>\n<text text-anchor=\"middle\" x=\"985\" y=\"-41.8\" font-family=\"Times,serif\" font-size=\"14.00\">grad 0.0000</text>\n</g>\n<!-- 140251567027680tanh&#45;&gt;140251567027680 -->\n<g id=\"edge3\" class=\"edge\">\n<title>140251567027680tanh&#45;&gt;140251567027680</title>\n<path fill=\"none\" stroke=\"black\" d=\"M828.04,-45.5C835.63,-45.5 844.38,-45.5 853.6,-45.5\"/>\n<polygon fill=\"black\" stroke=\"black\" points=\"853.76,-49 863.76,-45.5 853.76,-42 853.76,-49\"/>\n</g>\n</g>\n</svg>\n",
            "text/plain": [
              "<graphviz.graphs.Digraph at 0x7f8edcd4ed40>"
            ]
          },
          "execution_count": 20,
          "metadata": {},
          "output_type": "execute_result"
        }
      ],
      "source": [
        "draw_dot(e)"
      ]
    },
    {
      "cell_type": "code",
      "execution_count": 21,
      "metadata": {
        "id": "tj7sWA6UJKLv"
      },
      "outputs": [],
      "source": [
        "e.grad = 1.0\n",
        "e.backward()\n"
      ]
    },
    {
      "cell_type": "code",
      "execution_count": 22,
      "metadata": {
        "colab": {
          "base_uri": "https://localhost:8080/",
          "height": 189
        },
        "id": "I_Xe5SdDJRQH",
        "outputId": "61736ef6-d3bf-4161-f3c9-5b65ec634bd0"
      },
      "outputs": [
        {
          "data": {
            "image/svg+xml": "<?xml version=\"1.0\" encoding=\"UTF-8\" standalone=\"no\"?>\n<!DOCTYPE svg PUBLIC \"-//W3C//DTD SVG 1.1//EN\"\n \"http://www.w3.org/Graphics/SVG/1.1/DTD/svg11.dtd\">\n<!-- Generated by graphviz version 2.50.0 (0)\n -->\n<!-- Pages: 1 -->\n<svg width=\"1034pt\" height=\"128pt\"\n viewBox=\"0.00 0.00 1034.00 128.00\" xmlns=\"http://www.w3.org/2000/svg\" xmlns:xlink=\"http://www.w3.org/1999/xlink\">\n<g id=\"graph0\" class=\"graph\" transform=\"scale(1 1) rotate(0) translate(4 124)\">\n<polygon fill=\"white\" stroke=\"transparent\" points=\"-4,4 -4,-124 1030,-124 1030,4 -4,4\"/>\n<!-- 140251567027248 -->\n<g id=\"node1\" class=\"node\">\n<title>140251567027248</title>\n<polygon fill=\"none\" stroke=\"black\" points=\"0,-83.5 0,-119.5 162,-119.5 162,-83.5 0,-83.5\"/>\n<text text-anchor=\"middle\" x=\"40\" y=\"-97.8\" font-family=\"Times,serif\" font-size=\"14.00\">data 0.4000</text>\n<polyline fill=\"none\" stroke=\"black\" points=\"80,-83.5 80,-119.5 \"/>\n<text text-anchor=\"middle\" x=\"121\" y=\"-97.8\" font-family=\"Times,serif\" font-size=\"14.00\">grad 0.3523</text>\n</g>\n<!-- 140251567030032+ -->\n<g id=\"node7\" class=\"node\">\n<title>140251567030032+</title>\n<ellipse fill=\"none\" stroke=\"black\" cx=\"225\" cy=\"-73.5\" rx=\"27\" ry=\"18\"/>\n<text text-anchor=\"middle\" x=\"225\" y=\"-69.8\" font-family=\"Times,serif\" font-size=\"14.00\">+</text>\n</g>\n<!-- 140251567027248&#45;&gt;140251567030032+ -->\n<g id=\"edge7\" class=\"edge\">\n<title>140251567027248&#45;&gt;140251567030032+</title>\n<path fill=\"none\" stroke=\"black\" d=\"M162.13,-85.7C171.51,-83.85 180.67,-82.04 188.94,-80.41\"/>\n<polygon fill=\"black\" stroke=\"black\" points=\"189.77,-83.82 198.9,-78.45 188.42,-76.95 189.77,-83.82\"/>\n</g>\n<!-- 140251567028880 -->\n<g id=\"node2\" class=\"node\">\n<title>140251567028880</title>\n<polygon fill=\"none\" stroke=\"black\" points=\"576,-27.5 576,-63.5 738,-63.5 738,-27.5 576,-27.5\"/>\n<text text-anchor=\"middle\" x=\"616\" y=\"-41.8\" font-family=\"Times,serif\" font-size=\"14.00\">data 0.3600</text>\n<polyline fill=\"none\" stroke=\"black\" points=\"656,-27.5 656,-63.5 \"/>\n<text text-anchor=\"middle\" x=\"697\" y=\"-41.8\" font-family=\"Times,serif\" font-size=\"14.00\">grad 0.8808</text>\n</g>\n<!-- 140251567027680tanh -->\n<g id=\"node9\" class=\"node\">\n<title>140251567027680tanh</title>\n<ellipse fill=\"none\" stroke=\"black\" cx=\"801\" cy=\"-45.5\" rx=\"27\" ry=\"18\"/>\n<text text-anchor=\"middle\" x=\"801\" y=\"-41.8\" font-family=\"Times,serif\" font-size=\"14.00\">tanh</text>\n</g>\n<!-- 140251567028880&#45;&gt;140251567027680tanh -->\n<g id=\"edge6\" class=\"edge\">\n<title>140251567028880&#45;&gt;140251567027680tanh</title>\n<path fill=\"none\" stroke=\"black\" d=\"M738.13,-45.5C746.95,-45.5 755.58,-45.5 763.47,-45.5\"/>\n<polygon fill=\"black\" stroke=\"black\" points=\"763.7,-49 773.7,-45.5 763.7,-42 763.7,-49\"/>\n</g>\n<!-- 140251567028880* -->\n<g id=\"node3\" class=\"node\">\n<title>140251567028880*</title>\n<ellipse fill=\"none\" stroke=\"black\" cx=\"513\" cy=\"-45.5\" rx=\"27\" ry=\"18\"/>\n<text text-anchor=\"middle\" x=\"513\" y=\"-41.8\" font-family=\"Times,serif\" font-size=\"14.00\">*</text>\n</g>\n<!-- 140251567028880*&#45;&gt;140251567028880 -->\n<g id=\"edge1\" class=\"edge\">\n<title>140251567028880*&#45;&gt;140251567028880</title>\n<path fill=\"none\" stroke=\"black\" d=\"M540.04,-45.5C547.63,-45.5 556.38,-45.5 565.6,-45.5\"/>\n<polygon fill=\"black\" stroke=\"black\" points=\"565.76,-49 575.76,-45.5 565.76,-42 565.76,-49\"/>\n</g>\n<!-- 140251565926064 -->\n<g id=\"node4\" class=\"node\">\n<title>140251565926064</title>\n<polygon fill=\"none\" stroke=\"black\" points=\"0,-28.5 0,-64.5 162,-64.5 162,-28.5 0,-28.5\"/>\n<text text-anchor=\"middle\" x=\"40\" y=\"-42.8\" font-family=\"Times,serif\" font-size=\"14.00\">data 0.5000</text>\n<polyline fill=\"none\" stroke=\"black\" points=\"80,-28.5 80,-64.5 \"/>\n<text text-anchor=\"middle\" x=\"121\" y=\"-42.8\" font-family=\"Times,serif\" font-size=\"14.00\">grad 0.3523</text>\n</g>\n<!-- 140251565926064&#45;&gt;140251567030032+ -->\n<g id=\"edge8\" class=\"edge\">\n<title>140251565926064&#45;&gt;140251567030032+</title>\n<path fill=\"none\" stroke=\"black\" d=\"M162.13,-61.74C171.51,-63.52 180.67,-65.26 188.94,-66.83\"/>\n<polygon fill=\"black\" stroke=\"black\" points=\"188.43,-70.3 198.9,-68.73 189.73,-63.42 188.43,-70.3\"/>\n</g>\n<!-- 140251567028928 -->\n<g id=\"node5\" class=\"node\">\n<title>140251567028928</title>\n<polygon fill=\"none\" stroke=\"black\" points=\"288,-0.5 288,-36.5 450,-36.5 450,-0.5 288,-0.5\"/>\n<text text-anchor=\"middle\" x=\"328\" y=\"-14.8\" font-family=\"Times,serif\" font-size=\"14.00\">data 0.4000</text>\n<polyline fill=\"none\" stroke=\"black\" points=\"368,-0.5 368,-36.5 \"/>\n<text text-anchor=\"middle\" x=\"409\" y=\"-14.8\" font-family=\"Times,serif\" font-size=\"14.00\">grad 0.7927</text>\n</g>\n<!-- 140251567028928&#45;&gt;140251567028880* -->\n<g id=\"edge5\" class=\"edge\">\n<title>140251567028928&#45;&gt;140251567028880*</title>\n<path fill=\"none\" stroke=\"black\" d=\"M450.13,-33.74C459.51,-35.52 468.67,-37.26 476.94,-38.83\"/>\n<polygon fill=\"black\" stroke=\"black\" points=\"476.43,-42.3 486.9,-40.73 477.73,-35.42 476.43,-42.3\"/>\n</g>\n<!-- 140251567030032 -->\n<g id=\"node6\" class=\"node\">\n<title>140251567030032</title>\n<polygon fill=\"none\" stroke=\"black\" points=\"288,-55.5 288,-91.5 450,-91.5 450,-55.5 288,-55.5\"/>\n<text text-anchor=\"middle\" x=\"328\" y=\"-69.8\" font-family=\"Times,serif\" font-size=\"14.00\">data 0.9000</text>\n<polyline fill=\"none\" stroke=\"black\" points=\"368,-55.5 368,-91.5 \"/>\n<text text-anchor=\"middle\" x=\"409\" y=\"-69.8\" font-family=\"Times,serif\" font-size=\"14.00\">grad 0.3523</text>\n</g>\n<!-- 140251567030032&#45;&gt;140251567028880* -->\n<g id=\"edge4\" class=\"edge\">\n<title>140251567030032&#45;&gt;140251567028880*</title>\n<path fill=\"none\" stroke=\"black\" d=\"M450.13,-57.7C459.51,-55.85 468.67,-54.04 476.94,-52.41\"/>\n<polygon fill=\"black\" stroke=\"black\" points=\"477.77,-55.82 486.9,-50.45 476.42,-48.95 477.77,-55.82\"/>\n</g>\n<!-- 140251567030032+&#45;&gt;140251567030032 -->\n<g id=\"edge2\" class=\"edge\">\n<title>140251567030032+&#45;&gt;140251567030032</title>\n<path fill=\"none\" stroke=\"black\" d=\"M252.04,-73.5C259.63,-73.5 268.38,-73.5 277.6,-73.5\"/>\n<polygon fill=\"black\" stroke=\"black\" points=\"277.76,-77 287.76,-73.5 277.76,-70 277.76,-77\"/>\n</g>\n<!-- 140251567027680 -->\n<g id=\"node8\" class=\"node\">\n<title>140251567027680</title>\n<polygon fill=\"none\" stroke=\"black\" points=\"864,-27.5 864,-63.5 1026,-63.5 1026,-27.5 864,-27.5\"/>\n<text text-anchor=\"middle\" x=\"904\" y=\"-41.8\" font-family=\"Times,serif\" font-size=\"14.00\">data 0.3452</text>\n<polyline fill=\"none\" stroke=\"black\" points=\"944,-27.5 944,-63.5 \"/>\n<text text-anchor=\"middle\" x=\"985\" y=\"-41.8\" font-family=\"Times,serif\" font-size=\"14.00\">grad 1.0000</text>\n</g>\n<!-- 140251567027680tanh&#45;&gt;140251567027680 -->\n<g id=\"edge3\" class=\"edge\">\n<title>140251567027680tanh&#45;&gt;140251567027680</title>\n<path fill=\"none\" stroke=\"black\" d=\"M828.04,-45.5C835.63,-45.5 844.38,-45.5 853.6,-45.5\"/>\n<polygon fill=\"black\" stroke=\"black\" points=\"853.76,-49 863.76,-45.5 853.76,-42 853.76,-49\"/>\n</g>\n</g>\n</svg>\n",
            "text/plain": [
              "<graphviz.graphs.Digraph at 0x7f8edcd4ed70>"
            ]
          },
          "execution_count": 22,
          "metadata": {},
          "output_type": "execute_result"
        }
      ],
      "source": [
        "draw_dot(e)"
      ]
    },
    {
      "cell_type": "code",
      "execution_count": null,
      "metadata": {
        "id": "u8Y2C03BnLou"
      },
      "outputs": [],
      "source": [
        " "
      ]
    }
  ],
  "metadata": {
    "colab": {
      "collapsed_sections": [],
      "provenance": []
    },
    "kernelspec": {
      "display_name": "Python 3.10.4 ('pycandle')",
      "language": "python",
      "name": "python3"
    },
    "language_info": {
      "codemirror_mode": {
        "name": "ipython",
        "version": 3
      },
      "file_extension": ".py",
      "mimetype": "text/x-python",
      "name": "python",
      "nbconvert_exporter": "python",
      "pygments_lexer": "ipython3",
      "version": "3.10.4"
    },
    "vscode": {
      "interpreter": {
        "hash": "bf76c036fa7447ba062e986798d0b38f724a6ef98f9b75490b4fe6f811babdef"
      }
    }
  },
  "nbformat": 4,
  "nbformat_minor": 0
}
